{
 "cells": [
  {
   "cell_type": "markdown",
   "id": "95f01cd0-ba5e-4fe4-b571-f5adb8675bbc",
   "metadata": {},
   "source": [
    "Dictionary:\n",
    "    store in \"key\": vlaue pairs.\n",
    "    Unorded ,mutable,Don't allow duplicates\n",
    "\n",
    "Methods:\n",
    "    myDict.key()-returns all keys\n",
    "    myDict.values()-return all values\n",
    "    myDict.items()-returns all key:vlaues pair as tuples\n",
    "    myDict.get(\"key\")-returns key according to values\n",
    "    myDict.update(newDict)-insert specified items"
   ]
  },
  {
   "cell_type": "code",
   "execution_count": 2,
   "id": "18317814-152c-44d0-9d71-515dddf76468",
   "metadata": {},
   "outputs": [
    {
     "name": "stdout",
     "output_type": "stream",
     "text": [
      "dictionary:  {'table': ['a pice of furniture', 'list of facts and figures'], 'cat': 'a small animal'}\n"
     ]
    }
   ],
   "source": [
    "Dict={\n",
    "    \"table\":[\"a pice of furniture\",\"list of facts and figures\"],\n",
    "    \"cat\":\"a small animal\"\n",
    "}\n",
    "print(\"dictionary: \",Dict)"
   ]
  },
  {
   "cell_type": "code",
   "execution_count": 26,
   "id": "79a7056b-6747-4636-bda6-a9e3258d1dfd",
   "metadata": {},
   "outputs": [
    {
     "name": "stdin",
     "output_type": "stream",
     "text": [
      "Enter the first sub marks:  70\n",
      "Enter the second sub marks:  80\n",
      "Enter the first sub marks:  90\n"
     ]
    },
    {
     "name": "stdout",
     "output_type": "stream",
     "text": [
      "{'phy ': 70, 'chem ': 80, 'maths ': 90}\n"
     ]
    }
   ],
   "source": [
    "marks={}\n",
    "a=int(input(\"Enter the first sub marks: \"))\n",
    "marks.update({\"phy \": a})\n",
    "\n",
    "b=int(input(\"Enter the second sub marks: \"))\n",
    "marks.update({\"chem \": b})\n",
    "\n",
    "c=int(input(\"Enter the first sub marks: \"))\n",
    "marks.update({\"maths \": c})\n",
    "\n",
    "print(marks)"
   ]
  },
  {
   "cell_type": "markdown",
   "id": "d381b57d-2840-418f-89af-b93d1c574f81",
   "metadata": {},
   "source": [
    "Sets:\n",
    "    collection of unordered items\n",
    "    Each element is unique & Immutable\n",
    "\n",
    "    null_set=set{}-empty set\n",
    "\n",
    "Methods:\n",
    "    set.add(ele)-add elements\n",
    "    set.remove(ele)-removes elements\n",
    "    set.clear()-Empties the set\n",
    "    set.pop()-remove a random values\n",
    "    set.union(set2)-combines both sets & return new set\n",
    "    set.intersection(set2)-combines common values in sets & return new set"
   ]
  },
  {
   "cell_type": "code",
   "execution_count": 8,
   "id": "fb5617ca-5cf2-4507-b5c7-4dbca579aa34",
   "metadata": {},
   "outputs": [
    {
     "name": "stdout",
     "output_type": "stream",
     "text": [
      "{'javascript', 'c++', 'java', 'python', 'C'}\n",
      "Classroom required:  5\n"
     ]
    }
   ],
   "source": [
    "sub={\"python\",\"java\",\"c++\",\"python\",\"javascript\",\"java\",\"python\",\"java\",\"c++\",\"C\"}\n",
    "print(sub)\n",
    "print(\"Classroom required: \",len(sub))"
   ]
  },
  {
   "cell_type": "code",
   "execution_count": 34,
   "id": "eea0dcd9-3fa2-43ac-80b5-550f0cea0543",
   "metadata": {},
   "outputs": [
    {
     "name": "stdout",
     "output_type": "stream",
     "text": [
      "{9, '9.0'}\n",
      "{'9', 9.0}\n",
      "{('float', 9.0), ('int', 9)}\n"
     ]
    }
   ],
   "source": [
    "value1={9,\"9.0\"}\n",
    "value2={\"9\",9.0}\n",
    "value3={\n",
    "    (\"int\",9),\n",
    "    (\"float\",9.0)\n",
    "}\n",
    "    \n",
    "\n",
    "print(value1)\n",
    "print(value2)\n",
    "print(value3)"
   ]
  },
  {
   "cell_type": "markdown",
   "id": "eca33395-8441-4423-97b8-df4c729e28a4",
   "metadata": {},
   "source": [
    "Math function using in python is as follows:"
   ]
  },
  {
   "cell_type": "code",
   "execution_count": 2,
   "id": "441a6af2-99c9-41ad-8acc-b48d2fd07c9a",
   "metadata": {},
   "outputs": [
    {
     "name": "stdout",
     "output_type": "stream",
     "text": [
      "3\n",
      "2\n",
      "0.28366218546322625\n",
      "-0.8715757724135882\n",
      "74.20994852478785\n",
      "2.718281828459045\n",
      "20.0\n",
      "10.0\n",
      "5\n",
      "5.0\n",
      "------------------------\n"
     ]
    }
   ],
   "source": [
    "import math\n",
    "\n",
    "print(math.ceil(2.3))         \n",
    "print(math.floor(2.3))       \n",
    "print(math.cos(5))            \n",
    "print(math.sin(4.2))         \n",
    "print(math.cosh(5))           \n",
    "print(math.exp(1))            \n",
    "print(math.fabs(-20.00))      \n",
    "print(math.fmod(50, 20))      \n",
    "print(math.trunc(5.183))      \n",
    "print(math.sqrt(25))          \n",
    "\n",
    "print(\"------------------------\")\n"
   ]
  },
  {
   "cell_type": "code",
   "execution_count": null,
   "id": "ae7068bd-f22d-45ad-9429-58d7ff379a1e",
   "metadata": {},
   "outputs": [],
   "source": []
  }
 ],
 "metadata": {
  "kernelspec": {
   "display_name": "Python 3 (ipykernel)",
   "language": "python",
   "name": "python3"
  },
  "language_info": {
   "codemirror_mode": {
    "name": "ipython",
    "version": 3
   },
   "file_extension": ".py",
   "mimetype": "text/x-python",
   "name": "python",
   "nbconvert_exporter": "python",
   "pygments_lexer": "ipython3",
   "version": "3.12.4"
  }
 },
 "nbformat": 4,
 "nbformat_minor": 5
}
