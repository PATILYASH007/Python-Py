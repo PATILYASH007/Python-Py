{
 "cells": [
  {
   "cell_type": "markdown",
   "id": "0f2547e0-5b4d-45ee-97c8-da94ee32f9d7",
   "metadata": {},
   "source": [
    "Strings: Immutable('',\"\",\"\"\" \"\"\")\n",
    "Escape sequence char: \\n,\\t"
   ]
  },
  {
   "cell_type": "markdown",
   "id": "03094c42-dbd9-4e6c-b12e-8116e8c7d691",
   "metadata": {},
   "source": [
    "Basic Operations:\n",
    "1)Concatination:+\n",
    "2)length of str:len(str)"
   ]
  },
  {
   "cell_type": "code",
   "execution_count": 20,
   "id": "91e0876a-6541-4200-b160-884622dabd93",
   "metadata": {},
   "outputs": [
    {
     "name": "stdin",
     "output_type": "stream",
     "text": [
      "Enter your name:  Yash Patil\n"
     ]
    },
    {
     "name": "stdout",
     "output_type": "stream",
     "text": [
      "Yash Patil\n",
      "length of your name is  10\n"
     ]
    }
   ],
   "source": [
    "Name = input(\"Enter your name: \")\n",
    "print(Name)\n",
    "print(\"length of your name is \",len(Name))"
   ]
  },
  {
   "cell_type": "markdown",
   "id": "6ba0c62d-6b5a-497a-8f25-ca8c68c8a8c9",
   "metadata": {},
   "source": [
    "Str_Functions:\n",
    "    str.endswith(\"\")\n",
    "    str.capitalize()\n",
    "    str.replace(old,new)\n",
    "    str.find(word)\n",
    "    str.count(\"sn\")"
   ]
  },
  {
   "cell_type": "markdown",
   "id": "4eb463bc-5177-4125-8326-641407477967",
   "metadata": {},
   "source": [
    "Slicing: str[starting index:ending index]\n",
    "negative indexing: str[-3:-1]"
   ]
  },
  {
   "cell_type": "code",
   "execution_count": 17,
   "id": "646c516c-fb62-4fd4-8022-a863c70cc378",
   "metadata": {},
   "outputs": [
    {
     "name": "stdin",
     "output_type": "stream",
     "text": [
      "Input your String : yash patil\n"
     ]
    },
    {
     "name": "stdout",
     "output_type": "stream",
     "text": [
      "yash patil\n",
      "Occurences : 2\n"
     ]
    }
   ],
   "source": [
    "st = input(\"Input your String :\")\n",
    "print(st)\n",
    "print(\"Occurences :\",st.count(\"a\"))"
   ]
  },
  {
   "cell_type": "markdown",
   "id": "31b202b1-08c2-421f-a843-44c4bfc61b48",
   "metadata": {},
   "source": [
    "Condiotional Statements:\n",
    "    if-elif-else\n",
    "\n",
    "nesting:\\\\ if(condition):\n",
    "                if(condition):\n",
    "                    if(condition):.................\n",
    "                    "
   ]
  },
  {
   "cell_type": "code",
   "execution_count": 26,
   "id": "58241d91-64d4-4d5f-9a03-6b77b52319b5",
   "metadata": {},
   "outputs": [
    {
     "name": "stdin",
     "output_type": "stream",
     "text": [
      "Enter Number:  846416\n"
     ]
    },
    {
     "name": "stdout",
     "output_type": "stream",
     "text": [
      "nmber is Even\n"
     ]
    }
   ],
   "source": [
    "num=int(input(\"Enter Number: \"))\n",
    "\n",
    "if(num%2==0):\n",
    "    print(\"nmber is Even\")\n",
    "else:\n",
    "    print(\"number is Odd\")"
   ]
  },
  {
   "cell_type": "code",
   "execution_count": 36,
   "id": "28ab84be-23d5-405b-96d6-0abe8d1179f5",
   "metadata": {},
   "outputs": [
    {
     "name": "stdin",
     "output_type": "stream",
     "text": [
      "Enter 1st no.: 45\n",
      "Enter 2nd no.: 113\n",
      "Enter 3rd no.: 20\n",
      "Enter 4th no.: 200\n"
     ]
    },
    {
     "name": "stdout",
     "output_type": "stream",
     "text": [
      "Greatest no. is  200\n"
     ]
    }
   ],
   "source": [
    "a=int(input(\"Enter 1st no.:\"))\n",
    "b=int(input(\"Enter 2nd no.:\"))\n",
    "c=int(input(\"Enter 3rd no.:\"))\n",
    "d=int(input(\"Enter 4th no.:\"))\n",
    "\n",
    "if(a>=b and a>=c and a>=d):\n",
    "    print(\"Gratest no. is \",a)\n",
    "elif(b>=a and b>=c and b>=d):\n",
    "    print(\"Greatest no. is \",b)\n",
    "elif(c>=a and c>=b and c>=d):\n",
    "    print(\"Greatest no. is \",c)\n",
    "else:\n",
    "    print(\"Greatest no. is \",d)"
   ]
  },
  {
   "cell_type": "code",
   "execution_count": 42,
   "id": "b5dbec49-0132-4704-ad8b-e12204554bc1",
   "metadata": {},
   "outputs": [
    {
     "name": "stdin",
     "output_type": "stream",
     "text": [
      "Enter the no. 16548643\n"
     ]
    },
    {
     "name": "stdout",
     "output_type": "stream",
     "text": [
      "No are Not multipal of 7\n"
     ]
    }
   ],
   "source": [
    "x=int(input(\"Enter the no.\"))\n",
    "\n",
    "if(x % 7==0):\n",
    "    print(\"No are in Multipal of 7\")\n",
    "else:\n",
    "    print(\"No are Not multipal of 7\")"
   ]
  }
 ],
 "metadata": {
  "kernelspec": {
   "display_name": "Python 3 (ipykernel)",
   "language": "python",
   "name": "python3"
  },
  "language_info": {
   "codemirror_mode": {
    "name": "ipython",
    "version": 3
   },
   "file_extension": ".py",
   "mimetype": "text/x-python",
   "name": "python",
   "nbconvert_exporter": "python",
   "pygments_lexer": "ipython3",
   "version": "3.12.4"
  }
 },
 "nbformat": 4,
 "nbformat_minor": 5
}
