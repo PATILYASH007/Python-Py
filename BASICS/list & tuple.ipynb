{
 "cells": [
  {
   "cell_type": "markdown",
   "id": "210beac6-c044-4372-80e7-a6ab4abb8ca6",
   "metadata": {},
   "source": [
    "Lists: (Mutable)\n",
    "    slicing:list_name[starting index:ending index]\n",
    "    Methods:\n",
    "    list.append()-add element at end\n",
    "    list.sort()-sort in ascending order\n",
    "    list.sort(reverse=True)-sort in decending order\n",
    "    list.reverse()-reverse the list\n",
    "    list.insert(index,element)-insert ele at index\n",
    "    list.remove()-remove the firsr occurance of element\n",
    "    list.pop(index)-remove the element at index\n"
   ]
  },
  {
   "cell_type": "code",
   "execution_count": 1,
   "id": "52afacc8-5fbc-4cdc-949e-b3c3e4fcfb71",
   "metadata": {},
   "outputs": [
    {
     "name": "stdout",
     "output_type": "stream",
     "text": [
      "['a', 'a', 'a', 'b', 'b', 'c', 'd']\n"
     ]
    }
   ],
   "source": [
    "list=[\"c\",\"d\",\"a\",\"a\",\"b\",\"b\",\"a\"]\n",
    "list.sort()\n",
    "print(list)"
   ]
  },
  {
   "cell_type": "code",
   "execution_count": 13,
   "id": "93e30fc8-a8fe-4bfd-9e70-50658b13566c",
   "metadata": {},
   "outputs": [
    {
     "name": "stdin",
     "output_type": "stream",
     "text": [
      "first fav movie name:  pari\n",
      "second fav movie name:  interstellar\n",
      "third fav movie name:  godzila X kong\n",
      "fourth fav movie name:  laapata ladies\n"
     ]
    },
    {
     "name": "stdout",
     "output_type": "stream",
     "text": [
      "['pari', 'interstellar', 'godzila X kong', 'laapata ladies']\n"
     ]
    }
   ],
   "source": [
    "list=[]\n",
    "first=input(\"first fav movie name: \")\n",
    "list.append(first)\n",
    "sec=input(\"second fav movie name: \")\n",
    "list.append(sec)\n",
    "third=input(\"third fav movie name: \")\n",
    "list.append(third)\n",
    "fourth=input(\"fourth fav movie name: \")\n",
    "list.append(fourth)\n",
    "print(list)"
   ]
  },
  {
   "cell_type": "code",
   "execution_count": 56,
   "id": "3c1c0428-1380-4429-90c3-1955ae9d5082",
   "metadata": {},
   "outputs": [
    {
     "name": "stdout",
     "output_type": "stream",
     "text": [
      "reversed list:  ['r', 'a', 'c', 'e', 'c', 'a', 'r']\n",
      "list is pallendrome\n"
     ]
    }
   ],
   "source": [
    "list1=[\"r\",\"a\",\"c\",\"e\",\"c\",\"a\",\"r\"]\n",
    "copy_list=list1.copy()\n",
    "copy_list.reverse()\n",
    "print(\"reversed list: \",copy_list)\n",
    "if(copy_list==list1):\n",
    "    print(\"list is pallendrome\")\n",
    "else:\n",
    "    print(\"list is not pallendrome\")\n"
   ]
  },
  {
   "cell_type": "markdown",
   "id": "91b90e20-7bef-4da3-a373-3972b4e02b66",
   "metadata": {},
   "source": [
    "Tuple:-immutable & bulitin datatype\n",
    "methods:\n",
    "    tup.index(ele)-return index of firsr occurance\n",
    "    tup.count(ele)-count total occurance"
   ]
  },
  {
   "cell_type": "code",
   "execution_count": 62,
   "id": "78efa5a5-a88d-4090-bc79-c6662220abdc",
   "metadata": {},
   "outputs": [
    {
     "name": "stdout",
     "output_type": "stream",
     "text": [
      "count of the element is  3\n"
     ]
    }
   ],
   "source": [
    "tuple=(\"C\",\"D\",\"A\",\"A\",\"B\",\"B\",\"A\")\n",
    "Count=tuple.count(\"A\")\n",
    "print(\"count of the element is \",Count)"
   ]
  }
 ],
 "metadata": {
  "kernelspec": {
   "display_name": "Python 3 (ipykernel)",
   "language": "python",
   "name": "python3"
  },
  "language_info": {
   "codemirror_mode": {
    "name": "ipython",
    "version": 3
   },
   "file_extension": ".py",
   "mimetype": "text/x-python",
   "name": "python",
   "nbconvert_exporter": "python",
   "pygments_lexer": "ipython3",
   "version": "3.12.4"
  }
 },
 "nbformat": 4,
 "nbformat_minor": 5
}
